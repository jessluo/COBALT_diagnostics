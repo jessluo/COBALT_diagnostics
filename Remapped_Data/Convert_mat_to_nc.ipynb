{
 "cells": [
  {
   "cell_type": "code",
   "execution_count": 41,
   "id": "bc2c7a04",
   "metadata": {},
   "outputs": [],
   "source": [
    "import os\n",
    "import numpy as np\n",
    "from glob import glob\n",
    "import xarray as xr\n",
    "import matplotlib\n",
    "import matplotlib.pyplot as plt\n",
    "from scipy.io import loadmat\n",
    "\n",
    "import warnings\n",
    "warnings.filterwarnings('ignore')"
   ]
  },
  {
   "cell_type": "code",
   "execution_count": 42,
   "id": "ef3ca791",
   "metadata": {},
   "outputs": [],
   "source": [
    "#esm4_file = '/work/jyl/model_outputs/oar.gfdl.cmip6/ESM4/DECK/ESM4_piControl_D/gfdl.ncrc4-intel16-prod-openmp/history/ocean/00010101.ocean_annual_z.nc'\n",
    "esm4_file = '/archive/oar.gfdl.cmip6/ESM4/DECK/ESM4_historical_D1/gfdl.ncrc4-intel16-prod-openmp/pp/ocean_annual_z/ts/annual/5yr/ocean_annual_z.2010-2014.thetao.nc'\n",
    "esm4 = xr.open_dataset(esm4_file).isel(time=0)"
   ]
  },
  {
   "cell_type": "code",
   "execution_count": 43,
   "id": "5c350a45",
   "metadata": {},
   "outputs": [
    {
     "data": {
      "text/plain": [
       "['/archive/cas/matlab_COBALT_diagnostics/Remapped_Data/Salt_woa_esm4grid.mat',\n",
       " '/archive/cas/matlab_COBALT_diagnostics/Remapped_Data/phosphate_woa_esm4grid.mat',\n",
       " '/archive/cas/matlab_COBALT_diagnostics/Remapped_Data/TCO2_glodap_esm4grid.mat',\n",
       " '/archive/cas/matlab_COBALT_diagnostics/Remapped_Data/nitrate_woa_esm4grid.mat',\n",
       " '/archive/cas/matlab_COBALT_diagnostics/Remapped_Data/silicate_woa_esm4grid.mat',\n",
       " '/archive/cas/matlab_COBALT_diagnostics/Remapped_Data/Temp_woa_esm4grid.mat',\n",
       " '/archive/cas/matlab_COBALT_diagnostics/Remapped_Data/O2_woa_esm4grid.mat',\n",
       " '/archive/cas/matlab_COBALT_diagnostics/Remapped_Data/PI_TCO2_glodap_esm4grid.mat',\n",
       " '/archive/cas/matlab_COBALT_diagnostics/Remapped_Data/TAlk_glodap_esm4grid.mat',\n",
       " '/archive/cas/matlab_COBALT_diagnostics/Remapped_Data/pH_glodap_esm4grid.mat',\n",
       " '/archive/cas/matlab_COBALT_diagnostics/Remapped_Data/dpco2_smoothed_monthclim_landschutzer_1995to2014_esm4grid.mat',\n",
       " '/archive/cas/matlab_COBALT_diagnostics/Remapped_Data/spco2_smoothed_monthclim_landschutzer_1995to2014_esm4grid.mat',\n",
       " '/archive/cas/matlab_COBALT_diagnostics/Remapped_Data/dpco2_smoothed_landschutzer_esm4grid.mat',\n",
       " '/archive/cas/matlab_COBALT_diagnostics/Remapped_Data/fgco2_smoothed_monthclim_landschutzer_1995to2014_esm4grid.mat',\n",
       " '/archive/cas/matlab_COBALT_diagnostics/Remapped_Data/dco2_smoothed_monthclim_landschutzer_1995to2014_esm4grid.mat',\n",
       " '/archive/cas/matlab_COBALT_diagnostics/Remapped_Data/temp_monthclim_woa_esm4grid.mat',\n",
       " '/archive/cas/matlab_COBALT_diagnostics/Remapped_Data/phosphate_glodap_esm4grid.mat',\n",
       " '/archive/cas/matlab_COBALT_diagnostics/Remapped_Data/globcolor_soblend_mc_esm4grid.mat',\n",
       " '/archive/cas/matlab_COBALT_diagnostics/Remapped_Data/nitrate_woa18_esm4grid.mat',\n",
       " '/archive/cas/matlab_COBALT_diagnostics/Remapped_Data/npp_vgpm_mc_esm4grid.mat',\n",
       " '/archive/cas/matlab_COBALT_diagnostics/Remapped_Data/npp_eppley_mc_esm4grid.mat',\n",
       " '/archive/cas/matlab_COBALT_diagnostics/Remapped_Data/npp_eppley_cas_mc_esm4grid.mat',\n",
       " '/archive/cas/matlab_COBALT_diagnostics/Remapped_Data/npp_vgpm_cas_mc_esm4grid.mat',\n",
       " '/archive/cas/matlab_COBALT_diagnostics/Remapped_Data/npp_carr_cas_mc_esm4grid.mat',\n",
       " '/archive/cas/matlab_COBALT_diagnostics/Remapped_Data/OmegaC_glodap_esm4grid.mat',\n",
       " '/archive/cas/matlab_COBALT_diagnostics/Remapped_Data/Salt_glodap_esm4grid.mat',\n",
       " '/archive/cas/matlab_COBALT_diagnostics/Remapped_Data/OmegaA_glodap_esm4grid.mat',\n",
       " '/archive/cas/matlab_COBALT_diagnostics/Remapped_Data/O2_woa18_esm4grid.mat',\n",
       " '/archive/cas/matlab_COBALT_diagnostics/Remapped_Data/silicate_woa18_esm4grid.mat',\n",
       " '/archive/cas/matlab_COBALT_diagnostics/Remapped_Data/phosphate_woa18_esm4grid.mat',\n",
       " '/archive/cas/matlab_COBALT_diagnostics/Remapped_Data/temp_woa18_esm4grid.mat',\n",
       " '/archive/cas/matlab_COBALT_diagnostics/Remapped_Data/salt_woa18_esm4grid.mat',\n",
       " '/archive/cas/matlab_COBALT_diagnostics/Remapped_Data/iron_esm4grid.mat',\n",
       " '/archive/cas/matlab_COBALT_diagnostics/Remapped_Data/aou_woa18_esm4grid.mat',\n",
       " '/archive/cas/matlab_COBALT_diagnostics/Remapped_Data/doc_esm4grid.mat',\n",
       " '/archive/cas/matlab_COBALT_diagnostics/Remapped_Data/spco2_smoothed_monthclim_landschutzer_1992to2012_esm4grid.mat',\n",
       " '/archive/cas/matlab_COBALT_diagnostics/Remapped_Data/fgco2_smoothed_monthclim_landschutzer_1992to2012_esm4grid.mat',\n",
       " '/archive/cas/matlab_COBALT_diagnostics/Remapped_Data/dco2_smoothed_monthclim_landschutzer_1992to2012_esm4grid.mat']"
      ]
     },
     "execution_count": 43,
     "metadata": {},
     "output_type": "execute_result"
    }
   ],
   "source": [
    "cas_folder = '/archive/cas/matlab_COBALT_diagnostics/Remapped_Data/'\n",
    "files = glob(cas_folder+'*esm4grid.mat')\n",
    "files"
   ]
  },
  {
   "cell_type": "code",
   "execution_count": 47,
   "id": "0b9dcbcc",
   "metadata": {},
   "outputs": [
    {
     "name": "stdout",
     "output_type": "stream",
     "text": [
      "Processing: /archive/cas/matlab_COBALT_diagnostics/Remapped_Data/phosphate_woa_esm4grid.mat\n",
      "Variable: phosphate_woa\n",
      "Writing out to: /work/jyl/proj/ESM4.2_COBALT/diagnostics/Remapped_Data/phosphate_woa_esm4grid.nc\n",
      "Processing: /archive/cas/matlab_COBALT_diagnostics/Remapped_Data/TCO2_glodap_esm4grid.mat\n",
      "Variable: TCO2_glodap\n",
      "Writing out to: /work/jyl/proj/ESM4.2_COBALT/diagnostics/Remapped_Data/TCO2_glodap_esm4grid.nc\n"
     ]
    }
   ],
   "source": [
    "varname_old = None\n",
    "\n",
    "for file in files[1:3]:\n",
    "    print('Processing: ' + file)\n",
    "    varname_file = file.replace(cas_folder, '').replace('.mat','')\n",
    "    \n",
    "    # a couple naming exceptions\n",
    "    if varname_file == 'globcolor_soblend_mc_esm4grid':\n",
    "        varname_file = 'globcolour_soblend_mc_esm4grid'\n",
    "    if 'cas_mc' in varname_file:\n",
    "        varname_old = varname_file\n",
    "        varname_file = varname_file.replace('cas_','')\n",
    "    \n",
    "    varname_out = varname_file.replace('_esm4grid', '')\n",
    "    print('Variable: ' + varname_out)\n",
    "    \n",
    "    # read data\n",
    "    data = loadmat(file)\n",
    "    data = data[varname_file]\n",
    "    data.shape\n",
    "    \n",
    "    # write into xarray dataset format\n",
    "    if data.shape[0]==35:\n",
    "        da = xr.DataArray(data, coords={'z_l':esm4.z_l.values, 'yh':esm4.yh.values, 'xh':esm4.xh.values}, dims=['z_l','yh','xh'])\n",
    "    if data.shape[0]==12:\n",
    "        da = xr.DataArray(data, coords={'time':np.arange(1,13), 'yh':esm4.yh.values, 'xh':esm4.xh.values}, dims=['time','yh','xh'])\n",
    "    ds = da.to_dataset(name=varname_out)\n",
    "    \n",
    "    # write into netcdf\n",
    "    out_path='/work/jyl/proj/ESM4.2_COBALT/diagnostics/Remapped_Data/'\n",
    "    if varname_file.replace('mc_','cas_mc_') == varname_old:\n",
    "        varname_file = varname_old\n",
    "    filename=varname_file+'.nc'\n",
    "    print('Writing out to: ' + out_path+filename)\n",
    "    ds.to_netcdf(out_path+filename, mode='w')\n"
   ]
  },
  {
   "cell_type": "code",
   "execution_count": 40,
   "id": "db334cca",
   "metadata": {},
   "outputs": [],
   "source": [
    "# file = '/archive/cas/matlab_COBALT_diagnostics/Remapped_Data/dco2_smoothed_monthclim_landschutzer_1992to2012_esm4grid.mat'\n",
    "# varname_file = 'dco2_smoothed_monthclim_landschutzer_1992to2012_esm4grid'\n",
    "# varname_out = 'dco2_smoothed_monthclim_landschutzer_1992to2012'\n",
    "\n",
    "# data = loadmat(file)\n",
    "# data = data[varname_file]\n",
    "# data.shape\n",
    "\n",
    "# if data.shape[0]==35:\n",
    "#     da = xr.DataArray(data, coords={'z_l':esm4.z_l.values, 'yh':esm4.yh.values, 'xh':esm4.xh.values}, dims=['z_l','yh','xh'])\n",
    "# if data.shape[0]==12:\n",
    "#     da = xr.DataArray(data, coords={'time':np.arange(1,13), 'yh':esm4.yh.values, 'xh':esm4.xh.values}, dims=['time','yh','xh'])\n",
    "\n",
    "# ds = da.to_dataset(name=varname_out)\n",
    "# ds\n",
    "\n",
    "# out_path='/work/jyl/proj/ESM4.2_COBALT/diagnostics/Remapped_Data/'\n",
    "# filename=varname_file+'.nc'\n",
    "# print(out_path+filename)\n",
    "# ds.to_netcdf(out_path+filename, mode='w')"
   ]
  },
  {
   "cell_type": "code",
   "execution_count": null,
   "id": "9afebbad",
   "metadata": {},
   "outputs": [],
   "source": []
  }
 ],
 "metadata": {
  "kernelspec": {
   "display_name": "Python 3",
   "language": "python",
   "name": "python3"
  },
  "language_info": {
   "codemirror_mode": {
    "name": "ipython",
    "version": 3
   },
   "file_extension": ".py",
   "mimetype": "text/x-python",
   "name": "python",
   "nbconvert_exporter": "python",
   "pygments_lexer": "ipython3",
   "version": "3.7.3"
  }
 },
 "nbformat": 4,
 "nbformat_minor": 5
}
